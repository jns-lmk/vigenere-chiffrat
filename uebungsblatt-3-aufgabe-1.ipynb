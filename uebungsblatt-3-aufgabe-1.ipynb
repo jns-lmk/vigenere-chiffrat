{
 "cells": [
  {
   "cell_type": "markdown",
   "metadata": {},
   "source": [
    "## Aufgabe 1 (Entschlüsselung eines Vigenère-Chiffrats ohne Schlüssel) \n",
    " \n",
    "Gegeben ist folgendes Vigenère-Chiffrat eines deutschen Texts:"
   ]
  },
  {
   "cell_type": "markdown",
   "metadata": {},
   "source": [
    "a) Ermitteln Sie den Koinzidenzindex des Chiffrats. Welche Schlüssellänge ergibt sich daraus \n",
    "mit dem Friedman-Test?"
   ]
  },
  {
   "cell_type": "code",
   "execution_count": 1,
   "metadata": {},
   "outputs": [],
   "source": [
    "chiffrat = '''kjegimoeugcmoemgcbkxmojlovpgkbkjqksmtactxmmvqycmoectupgkbkjqkcqkseovmoemslbzvzoyzkbqtumxcqkspgkmoemykimvacftrkmyzmoelkeegclaelllbzvznftkelgiqkwaovircmyzmhvvnvzhvqaelygzgtprzmhvsoelkiqiyeoctnzvglaoelkeegclyvqjrclvcxvznlbbfzjvucftlnmtemxymxvqtbwsdbyfnxzaykmxvciyircmszbnrczlvjyigimxmmxjbkctzjqiywlkihvzgeakzvkizglpkeazzusvctuitjmoemtjknnixqmtwckjakeekilkkqniqnemxbmtemtuqkxmojtkzvyrozvvrzmhvuakbkieoieuctkectjaiywtzvgtpzemndmtzpxbwkevzfptvauiokwwxkokymtuisvkqvzzvlovirkmaelsrknkmyzknxmziwykiawlkeekx'''"
   ]
  },
  {
   "cell_type": "code",
   "execution_count": 2,
   "metadata": {},
   "outputs": [],
   "source": [
    "from collections import Counter\n",
    "\n",
    "frequenz_zaehler_chiffrat = Counter(chiffrat)\n",
    "\n",
    "anzahl_zeichen_chiffrat = frequenz_zaehler_chiffrat.total()\n",
    "\n",
    "zeichen_frequenz_chiffrat = frequenz_zaehler_chiffrat.most_common()"
   ]
  },
  {
   "cell_type": "code",
   "execution_count": 3,
   "metadata": {},
   "outputs": [
    {
     "name": "stdout",
     "output_type": "stream",
     "text": [
      "Zähler: 12276\n"
     ]
    }
   ],
   "source": [
    "zaehler = 0\n",
    "for k,v in zeichen_frequenz_chiffrat:\n",
    "    zaehler += v * ( v - 1 )\n",
    "print(\"Zähler: %d\" % zaehler)"
   ]
  },
  {
   "cell_type": "code",
   "execution_count": 4,
   "metadata": {},
   "outputs": [
    {
     "name": "stdout",
     "output_type": "stream",
     "text": [
      "Nenner: 246512\n"
     ]
    }
   ],
   "source": [
    "nenner = len(chiffrat) * ( len(chiffrat) - 1 )\n",
    "print(\"Nenner: %d\" % nenner)"
   ]
  },
  {
   "cell_type": "code",
   "execution_count": 5,
   "metadata": {},
   "outputs": [
    {
     "name": "stdout",
     "output_type": "stream",
     "text": [
      "Koeffizient: 0.049799\n"
     ]
    }
   ],
   "source": [
    "kappa_c = zaehler / nenner\n",
    "print(\"Koeffizient: %5.6f\" % kappa_c)"
   ]
  },
  {
   "cell_type": "code",
   "execution_count": 6,
   "metadata": {},
   "outputs": [],
   "source": [
    "# Koeffizienz-Index eines deutschen Textes\n",
    "kappa_roh = 0.076\n",
    "\n",
    "# Koeffizienz-Index bei Gleichverteilung (26 Zeichen)\n",
    "kappa_r = 0.0385"
   ]
  },
  {
   "cell_type": "code",
   "execution_count": 7,
   "metadata": {},
   "outputs": [
    {
     "name": "stdout",
     "output_type": "stream",
     "text": [
      "Schlüssellänge: 3.318939\n"
     ]
    }
   ],
   "source": [
    "schluessellaenge = ( kappa_roh - kappa_r ) / ( kappa_c - kappa_r )\n",
    "print(\"Schlüssellänge: %5.6f\" % schluessellaenge)"
   ]
  },
  {
   "cell_type": "markdown",
   "metadata": {},
   "source": [
    "Die Schlüssellänge könnte demnach 3 oder 4 sein."
   ]
  },
  {
   "cell_type": "markdown",
   "metadata": {},
   "source": [
    "b) Tatsächlich wurde ein Schlüsselwort der Länge 3 verwendet. Entschlüsseln Sie mit Hilfe \n",
    "dieser Information das Chiffrat."
   ]
  },
  {
   "cell_type": "code",
   "execution_count": 17,
   "metadata": {},
   "outputs": [],
   "source": [
    "schluessellaenge = int(schluessellaenge) # aus 3.31 wird beim casten 3"
   ]
  },
  {
   "cell_type": "markdown",
   "metadata": {},
   "source": [
    "Die Buchstabenhäufigkeite in deutschen Texten"
   ]
  },
  {
   "cell_type": "code",
   "execution_count": 9,
   "metadata": {},
   "outputs": [],
   "source": [
    "zeichen_hauefigkeit_deutsch = \"ENISRATDHULCGMOBWFKZPVJYXQ\".lower()"
   ]
  },
  {
   "cell_type": "markdown",
   "metadata": {},
   "source": [
    "Die unterschiedlichen Chiffrat-Teile anhand der Schlüssellänge aufteilen"
   ]
  },
  {
   "cell_type": "code",
   "execution_count": 10,
   "metadata": {},
   "outputs": [],
   "source": [
    "teile = []\n",
    "for j in range(schluessellaenge):\n",
    "    teile.append([v for i, v in enumerate(chiffrat) if not (i-j) % schluessellaenge])"
   ]
  },
  {
   "cell_type": "code",
   "execution_count": 11,
   "metadata": {},
   "outputs": [],
   "source": [
    "import string"
   ]
  },
  {
   "cell_type": "code",
   "execution_count": 18,
   "metadata": {},
   "outputs": [],
   "source": [
    "# Dekodiert einen Buchstaben mit Hilfe eines anderen Buchstaben durch verschieben\n",
    "def decode_by_char(a: str, k: str) -> str:\n",
    "    return string.ascii_lowercase[(string.ascii_lowercase.index(a) - string.ascii_lowercase.index(k)) % 26]"
   ]
  },
  {
   "cell_type": "code",
   "execution_count": 19,
   "metadata": {},
   "outputs": [],
   "source": [
    "# Ermittelt anhand zweicher Buchstaben die Differenz zwischen deren Index im Alphabet in Form eines Buchstaben\n",
    "def char_diff(c: str, t: str) -> str:\n",
    "    return string.ascii_lowercase[(string.ascii_lowercase.index(c) - string.ascii_lowercase.index(t)) % 26]"
   ]
  },
  {
   "cell_type": "code",
   "execution_count": 20,
   "metadata": {},
   "outputs": [
    {
     "name": "stdout",
     "output_type": "stream",
     "text": [
      "Zeichenfrequenz im Chiffrat und möglicher Zuordnung in Teil 1:\n",
      "k: 31 18.67% -> e | Schlüsselelement: g\n",
      "\n",
      "Zeichenfrequenz im Chiffrat und möglicher Zuordnung in Teil 2:\n",
      "v: 26 15.66% -> e | Schlüsselelement: r\n",
      "\n",
      "Zeichenfrequenz im Chiffrat und möglicher Zuordnung in Teil 3:\n",
      "m: 38 23.03% -> e | Schlüsselelement: i\n",
      "\n"
     ]
    }
   ],
   "source": [
    "# Gesammelte Schlüsselelemente\n",
    "schluessel_elemente = []\n",
    "\n",
    "# Jeden Teil des Vigenère-Chiffrats seperate Betrachten\n",
    "for j, t in enumerate(teile):\n",
    "\n",
    "    # Die Häufigkeitsanalyse nur auf diesen Teil anwenden\n",
    "    frequenz_zaehler = Counter(t)\n",
    "    anzahl_zeichen = frequenz_zaehler.total()\n",
    "    zeichen_frequenz = frequenz_zaehler.most_common()\n",
    "\n",
    "    print(\"Zeichenfrequenz im Chiffrat und möglicher Zuordnung in Teil %i:\" % (j+1) )\n",
    "    for i, (char, freq) in enumerate(zeichen_frequenz):\n",
    "\n",
    "        if i == 1: break # Nur den häufigsten Buchstaben betrachten, da hier die Wahrscheinlichkeit am größten ist\n",
    "\n",
    "        # Mögliches Schlüsselement berechnen\n",
    "        schluessel_element = char_diff(char, zeichen_hauefigkeit_deutsch[i])\n",
    "\n",
    "        print(f\"{char}: {freq} {freq/anzahl_zeichen:.2%} -> {zeichen_hauefigkeit_deutsch[i]} | Schlüsselelement: {schluessel_element}\", end=\"\\n\\n\")\n",
    "        \n",
    "        # Schlüsselelement mit aufnehmen\n",
    "        schluessel_elemente.append(schluessel_element)"
   ]
  },
  {
   "cell_type": "code",
   "execution_count": 21,
   "metadata": {},
   "outputs": [
    {
     "data": {
      "text/plain": [
       "['g', 'r', 'i']"
      ]
     },
     "execution_count": 21,
     "metadata": {},
     "output_type": "execute_result"
    }
   ],
   "source": [
    "# Der mögliche Schlüssel mit allen Elementen in einer Liste\n",
    "schluessel_elemente"
   ]
  },
  {
   "cell_type": "code",
   "execution_count": 28,
   "metadata": {},
   "outputs": [
    {
     "name": "stdout",
     "output_type": "stream",
     "text": [
      "eswareinmaleinealtegeisdiehattesiebenjungegeisleinundhattesieliebwieeinemutterihrekinderliebhateinestageswolltesieindenwaldundfutterholendariefsieallesiebenherbeiundsprachliebekinderichwillhinausindenwaldseidaufeurerhutvordemwolfwennerhereinkommtsofrisstereuchallemithautundhaarerverstelltsichoftaberanseinerrauhenstimmeundanseinenschwarzenfuessenwerdetihrihnerkennendiegeisleinsagtenliebemutterwirwollenunsschoninachtnehmenihrkoenntohnesorgefortgehendameckertediealteundmachtesichgetrostaufdenweg"
     ]
    }
   ],
   "source": [
    "# Schlüsselelemente in einen String verwandeln\n",
    "schluessel = \"\".join(schluessel_elemente)\n",
    "\n",
    "# Jedes Element des Chiffrats einzeln mit dem jeweiligen Element des Schlüsselwortes dekodieren\n",
    "for i, verschluesseltes_zeichen in enumerate(chiffrat):\n",
    "    schluessel_element = schluessel[i % 3]\n",
    "    entschluesseltes_zeichen = decode_by_char(verschluesseltes_zeichen, schluessel_element)\n",
    "    print(entschluesseltes_zeichen, end=\"\")"
   ]
  },
  {
   "cell_type": "markdown",
   "metadata": {},
   "source": [
    "c) Wie lautete das Schlüsselwort? \n",
    " \n"
   ]
  },
  {
   "cell_type": "code",
   "execution_count": 27,
   "metadata": {},
   "outputs": [
    {
     "name": "stdout",
     "output_type": "stream",
     "text": [
      "Das Schlüsselwort lautet: gri\n"
     ]
    }
   ],
   "source": [
    "print(f\"Das Schlüsselwort lautet: {schluessel}\")"
   ]
  }
 ],
 "metadata": {
  "kernelspec": {
   "display_name": "Python 3",
   "language": "python",
   "name": "python3"
  },
  "language_info": {
   "codemirror_mode": {
    "name": "ipython",
    "version": 3
   },
   "file_extension": ".py",
   "mimetype": "text/x-python",
   "name": "python",
   "nbconvert_exporter": "python",
   "pygments_lexer": "ipython3",
   "version": "3.11.9"
  }
 },
 "nbformat": 4,
 "nbformat_minor": 2
}
